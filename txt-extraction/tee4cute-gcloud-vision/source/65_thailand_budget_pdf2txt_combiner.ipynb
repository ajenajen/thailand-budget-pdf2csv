{
  "nbformat": 4,
  "nbformat_minor": 0,
  "metadata": {
    "colab": {
      "name": "65-thailand-budget-pdf2txt-combiner.ipynb",
      "provenance": [],
      "collapsed_sections": []
    },
    "kernelspec": {
      "name": "python3",
      "display_name": "Python 3"
    },
    "language_info": {
      "name": "python"
    }
  },
  "cells": [
    {
      "cell_type": "code",
      "metadata": {
        "id": "ORtZDsLpi9AH"
      },
      "source": [
        "#################################\n",
        "# THIS SOURCE IS CONTRIBUTED BY #\n",
        "# https://github.com/napatswift #\n",
        "#################################\n",
        "\n",
        "# -*- coding: utf-8 -*-\n",
        "import json\n",
        "from tqdm.auto import tqdm\n",
        "​\n",
        "pages = []\n",
        "​\n",
        "PDF_FILE_NUM_PAGE = {\n",
        "    \"2022.3.1\": 892,\n",
        "    \"2022.3.2\": 554,\n",
        "    \"2022.3.3(1)\": 724,\n",
        "    \"2022.3.3(2)\": 544,\n",
        "    \"2022.3.3(3)\": 598,\n",
        "    \"2022.3.3(4)\": 588,\n",
        "    \"2022.3.3(5)\": 288,\n",
        "    \"2022.3.4\": 769,\n",
        "    \"2022.3.5\": 728,\n",
        "    \"2022.3.6\": 432,\n",
        "    \"2022.3.7\": 398,\n",
        "    \"2022.3.8\": 652,\n",
        "    \"2022.3.9\": 738,\n",
        "    \"2022.3.10\": 476,\n",
        "    \"2022.3.11\": 578,\n",
        "    \"2022.3.12\": 460,\n",
        "    \"2022.3.13(1)\": 780,\n",
        "    \"2022.3.13(2)\": 780,\n",
        "    \"2022.3.14\": 490,\n",
        "    \"2022.3.15\": 256,\n",
        "    \"2022.3.16(1)\": 730,\n",
        "    \"2022.3.16(2)\": 984,\n",
        "    \"2022.3.16(3)\": 944,\n",
        "    \"2022.3.17\": 84\n",
        "}\n",
        "​\n",
        "pdf_text = {}\n",
        "​\n",
        "for REF_DOC in tqdm(PDF_FILE_NUM_PAGE):\n",
        "    pages = []\n",
        "    for i in tqdm(range(PDF_FILE_NUM_PAGE[REF_DOC]), desc=REF_DOC):\n",
        "        if REF_DOC == '2022.3.17':\n",
        "            json_path = '{}/{}.0001-{:02}.json'.format(REF_DOC, REF_DOC, i+1)\n",
        "        else:\n",
        "            json_path = '{}/{}.0001-{:03}.json'.format(REF_DOC, REF_DOC, i+1)\n",
        "        with open(json_path) as json_file:\n",
        "            data = json.load(json_file)\n",
        "            pages.append([{'vertices': dt['boundingPoly']['vertices'], 'description': dt['description']} for dt in data['textAnnotations']])\n",
        "    with open(\"{}.json\".format(REF_DOC.replace('.', '-')), \"w\", encoding=\"utf8\") as file:\n",
        "        json.dump({REF_DOC: pages}, file, ensure_ascii=False)\n",
        "    pdf_text[REF_DOC] = pages\n",
        "​\n",
        "with open(\"thaiBudget2022.json\", \"w\", encoding=\"utf8\") as f:\n",
        "    json.dump(pdf_text, f, ensure_ascii=False)"
      ],
      "execution_count": null,
      "outputs": []
    },
    {
      "cell_type": "code",
      "metadata": {
        "id": "IoyB9eRujuc3"
      },
      "source": [
        ""
      ],
      "execution_count": null,
      "outputs": []
    }
  ]
}